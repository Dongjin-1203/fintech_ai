{
  "nbformat": 4,
  "nbformat_minor": 0,
  "metadata": {
    "colab": {
      "provenance": []
    },
    "kernelspec": {
      "name": "python3",
      "display_name": "Python 3"
    },
    "language_info": {
      "name": "python"
    }
  },
  "cells": [
    {
      "cell_type": "code",
      "execution_count": 3,
      "metadata": {
        "id": "4UmNTEJl7BQu"
      },
      "outputs": [],
      "source": [
        "import yfinance as yf\n",
        "import pandas as pd\n",
        "\n",
        "# 테스트 종목들\n",
        "test_symbols = ['005930.KS', '000660.KS', '035420.KS']  # 삼성전자, SK하이닉스, NAVER\n",
        "\n",
        "# 기본 정보 수집 테스트\n",
        "def test_stock_info(symbol):\n",
        "    stock = yf.Ticker(symbol)\n",
        "    info = stock.info\n",
        "    history = stock.history(period=\"1mo\")\n",
        "    return info, history"
      ]
    },
    {
      "cell_type": "code",
      "source": [
        "for symbol in test_symbols:\n",
        "    # 함수 return 값은 이런식으로 받아 올 수 있다.\n",
        "    stock_info, stock_history = test_stock_info(symbol)\n",
        "    print(stock_info)\n",
        "    # print(stock_history)"
      ],
      "metadata": {
        "colab": {
          "base_uri": "https://localhost:8080/"
        },
        "id": "XPZ5feMa7uvD",
        "outputId": "a7c05889-32e5-411a-9d14-b92e7e8b5920"
      },
      "execution_count": 4,
      "outputs": [
        {
          "output_type": "stream",
          "name": "stdout",
          "text": [
            "{'address1': '129 Samsung-Ro', 'address2': 'Maetan-3dong Yeongtong-gu', 'city': 'Suwon', 'country': 'South Korea', 'website': 'https://www.samsung.com', 'industry': 'Consumer Electronics', 'industryKey': 'consumer-electronics', 'industryDisp': 'Consumer Electronics', 'sector': 'Technology', 'sectorKey': 'technology', 'sectorDisp': 'Technology', 'longBusinessSummary': 'Samsung Electronics Co., Ltd. engages in the consumer electronics, information technology and mobile communications, and device solutions businesses worldwide. It operates in four divisions such as DX, DS, SDC and Harman. The company offers smartphones, tablets, audio sounds, watches, switches, and accessories; TVs, and sound devices; appliances, including refrigerators, washing machines and dryers, vacuum cleaners, cooking appliances, dishwashers, air conditioners, and air purifiers; monitors and memory storage products; displays, and smart and LED signages; and other accessories. It also engages in venture capital investments, cloud services, network devices installation, semiconductor equipment services, digital advertising platforms, marketing, consulting, connected services provider, logistics, financing, and software design activities; toll processing and sales of semiconductors and display panels; development and sale of network solutions; manufacture of semiconductors and food; the provision of repair services for electronic devices; and development and supply of semiconductor process defect and quality control software, as well as digital televisions, foundry, system large scale integration LSI, connected car systems, audio and visual products, enterprise automation solutions, and connected services. The company was incorporated in 1969 and is based in Suwon, South Korea.', 'fullTimeEmployees': 128545, 'companyOfficers': [{'maxAge': 1, 'name': 'Mr. Tae-Moon  Roh', 'age': 56, 'title': 'ActingHdofeviceeXperienceDivision, Pres, HdofMobileeXperience, CEOofSmart Phone Div & Exec Director', 'yearBorn': 1968, 'fiscalYear': 2024, 'totalPay': 5099000000, 'exercisedValue': 0, 'unexercisedValue': 0}, {'maxAge': 1, 'name': 'Mr. Hark-Kyu  Park', 'age': 60, 'title': 'President & Head of Corporate Management Office at DX Division', 'yearBorn': 1964, 'fiscalYear': 2024, 'totalPay': 3346000000, 'exercisedValue': 0, 'unexercisedValue': 0}, {'maxAge': 1, 'name': 'Si-young  Choi', 'title': 'President & Head of Foundry Business', 'fiscalYear': 2024, 'totalPay': 6900000000, 'exercisedValue': 0, 'unexercisedValue': 0}, {'maxAge': 1, 'name': 'Mr. Young-Hyun  Jun', 'age': 64, 'title': 'CEO, Head of the Device Solutions Division & Executive Director', 'yearBorn': 1960, 'fiscalYear': 2024, 'exercisedValue': 0, 'unexercisedValue': 0}, {'maxAge': 1, 'name': 'Mr. Mauro  Porcini', 'title': 'President & Chief Design Officer', 'fiscalYear': 2024, 'exercisedValue': 0, 'unexercisedValue': 0}, {'maxAge': 1, 'name': 'Mr. Hyun-Chong  Kim', 'title': 'President and Chief Legal Officer', 'fiscalYear': 2024, 'exercisedValue': 0, 'unexercisedValue': 0}, {'maxAge': 1, 'name': 'Kyungwhoon  Cheun', 'title': 'President', 'fiscalYear': 2024, 'exercisedValue': 0, 'unexercisedValue': 0}, {'maxAge': 1, 'name': 'Mr. Soon-Cheol  Park', 'age': 58, 'title': 'Executive VP & CFO', 'yearBorn': 1966, 'fiscalYear': 2024, 'exercisedValue': 0, 'unexercisedValue': 0}, {'maxAge': 1, 'name': 'Mr. Robert M. Yi', 'title': 'Head of Investor Relations', 'fiscalYear': 2024, 'exercisedValue': 0, 'unexercisedValue': 0}, {'maxAge': 1, 'name': 'Mr. Jung-ho  Park', 'age': 53, 'title': 'Head of Compliance Team & Executive VP', 'yearBorn': 1971, 'fiscalYear': 2024, 'exercisedValue': 0, 'unexercisedValue': 0}], 'auditRisk': 1, 'boardRisk': 3, 'compensationRisk': 1, 'shareHolderRightsRisk': 1, 'overallRisk': 2, 'governanceEpochDate': 1756684800, 'compensationAsOfEpochDate': 1735603200, 'executiveTeam': [], 'maxAge': 86400, 'priceHint': 2, 'previousClose': 69100.0, 'open': 69200.0, 'dayLow': 68800.0, 'dayHigh': 69800.0, 'regularMarketPreviousClose': 69100.0, 'regularMarketOpen': 69200.0, 'regularMarketDayLow': 68800.0, 'regularMarketDayHigh': 69800.0, 'dividendRate': 1456.0, 'dividendYield': 2.11, 'exDividendDate': 1750982400, 'payoutRatio': 0.32459998, 'fiveYearAvgDividendYield': 2.56, 'beta': 0.752, 'volume': 11346793, 'regularMarketVolume': 11346793, 'averageVolume': 18230612, 'averageVolume10days': 12701454, 'averageDailyVolume10Day': 12701454, 'bid': 69500.0, 'ask': 69600.0, 'bidSize': 0, 'askSize': 0, 'marketCap': 459925465595904, 'fiftyTwoWeekLow': 49900.0, 'fiftyTwoWeekHigh': 74000.0, 'priceToSalesTrailing12Months': 1.490391, 'fiftyDayAverage': 66914.0, 'twoHundredDayAverage': 58532.0, 'currency': 'KRW', 'tradeable': False, 'enterpriseValue': 386177723006976, 'forwardPE': 12.188179, 'profitMargins': 0.09825, 'floatShares': 5498768484, 'sharesOutstanding': 5919640064, 'heldPercentInsiders': 0.10067, 'heldPercentInstitutions': 0.45769, 'impliedSharesOutstanding': 6691489792, 'lastFiscalYearEnd': 1735603200, 'nextFiscalYearEnd': 1767139200, 'mostRecentQuarter': 1751241600, 'earningsQuarterlyGrowth': -0.488, 'netIncomeToCommon': 30320120299520, 'lastSplitFactor': '50:1', 'lastSplitDate': 1526428800, 'enterpriseToRevenue': 1.251, 'enterpriseToEbitda': 5.42, '52WeekChange': -0.012857139, 'SandP52WeekChange': 0.16222072, 'lastDividendValue': 367.0, 'lastDividendDate': 1750982400, 'quoteType': 'EQUITY', 'currentPrice': 69800.0, 'targetHighPrice': 100000.0, 'targetLowPrice': 58500.0, 'targetMeanPrice': 82693.18, 'targetMedianPrice': 84000.0, 'recommendationMean': 1.61765, 'recommendationKey': 'buy', 'numberOfAnalystOpinions': 34, 'totalCash': 100728156717056, 'totalCashPerShare': 15065.346, 'ebitda': 71254606348288, 'totalDebt': 14029673201664, 'quickRatio': 1.79, 'currentRatio': 2.514, 'totalRevenue': 308593836425216, 'debtToEquity': 3.511, 'revenuePerShare': 45679.23, 'returnOnAssets': 0.03412, 'returnOnEquity': 0.07967, 'grossProfits': 112150412525568, 'freeCashflow': 17251405135872, 'operatingCashflow': 78161903616000, 'earningsGrowth': -0.481, 'revenueGrowth': 0.007, 'grossMargins': 0.36341998, 'ebitdaMargins': 0.2309, 'operatingMargins': 0.06271, 'financialCurrency': 'KRW', 'symbol': '005930.KS', 'language': 'en-US', 'region': 'US', 'typeDisp': 'Equity', 'quoteSourceName': 'Delayed Quote', 'triggerable': False, 'customPriceAlertConfidence': 'LOW', 'marketState': 'PREPRE', 'corporateActions': [], 'exchange': 'KSC', 'messageBoardId': 'finmb_91868', 'exchangeTimezoneName': 'Asia/Seoul', 'exchangeTimezoneShortName': 'KST', 'gmtOffSetMilliseconds': 32400000, 'market': 'kr_market', 'esgPopulated': False, 'regularMarketTime': 1756881028, 'regularMarketChange': 700.0, 'regularMarketDayRange': '68800.0 - 69800.0', 'fullExchangeName': 'KSE', 'averageDailyVolume3Month': 18230612, 'fiftyTwoWeekLowChange': 19900.0, 'fiftyTwoWeekLowChangePercent': 0.3987976, 'fiftyTwoWeekRange': '49900.0 - 74000.0', 'fiftyTwoWeekHighChange': -4200.0, 'fiftyTwoWeekHighChangePercent': -0.056756757, 'fiftyTwoWeekChangePercent': -1.2857139, 'earningsTimestamp': 1753855200, 'earningsTimestampStart': 1761804000, 'earningsTimestampEnd': 1761804000, 'earningsCallTimestampStart': 1753923600, 'earningsCallTimestampEnd': 1753923600, 'isEarningsDateEstimate': True, 'firstTradeDateMilliseconds': 946944000000, 'hasPrePostMarketData': False, 'regularMarketChangePercent': 1.0130246, 'regularMarketPrice': 69800.0, 'epsCurrentYear': 4419.7295, 'priceEpsCurrentYear': 15.792822, 'fiftyDayAverageChange': 2886.0, 'fiftyDayAverageChangePercent': 0.043129988, 'twoHundredDayAverageChange': 11268.0, 'twoHundredDayAverageChangePercent': 0.19251008, 'sourceInterval': 20, 'exchangeDataDelayedBy': 20, 'averageAnalystRating': '1.6 - Buy', 'cryptoTradeable': False, 'shortName': 'SamsungElec', 'longName': 'Samsung Electronics Co., Ltd.', 'trailingPegRatio': 1.797}\n",
            "{'address1': '2091, Gyeongchung-daero', 'address2': 'Bubal-eup', 'city': 'Icheon-si', 'country': 'South Korea', 'phone': '82 31 5185 4114', 'website': 'https://www.skhynix.com', 'industry': 'Semiconductors', 'industryKey': 'semiconductors', 'industryDisp': 'Semiconductors', 'sector': 'Technology', 'sectorKey': 'technology', 'sectorDisp': 'Technology', 'longBusinessSummary': 'SK hynix Inc. manufactures, distributes, and sells semiconductor products in Korea, China, rest of Asia, the United States, and Europe. It offers DRAM, NAND storage, SSD, MCP, and CMM products. The company provides its products for server, networking, mobile, personal computer, consumer, and automotive applications. It is also involved in the construction, business support, industrial material supply, apparel manufacturing and bakery, hospital operation and construction, building maintenance, education, information and communication, investment and investment advisory, and money market trust activities. The company was formerly known as Hynix Semiconductor Inc. and changed its name to SK hynix Inc. in March 2012. SK hynix Inc. was founded in 1949 and is headquartered in Icheon-si, South Korea.', 'fullTimeEmployees': 33545, 'companyOfficers': [{'maxAge': 1, 'name': 'Dr. Noh-Jung  Kwak', 'age': 59, 'title': 'President, CEO & Executive Director', 'yearBorn': 1965, 'exercisedValue': 0, 'unexercisedValue': 0}, {'maxAge': 1, 'name': 'Dong Sub  Kim', 'title': 'President and Head of Communication & External Affairs', 'exercisedValue': 0, 'unexercisedValue': 0}, {'maxAge': 1, 'name': 'Ahn  Hyun', 'title': 'President, Chief Development Officer & Inside Director', 'exercisedValue': 0, 'unexercisedValue': 0}, {'maxAge': 1, 'name': 'Woo-Hyun  Kim', 'title': 'VP & Head of Finance', 'exercisedValue': 0, 'unexercisedValue': 0}, {'maxAge': 1, 'name': 'Mr. Seong Hwan  Park', 'title': 'Head of Investor Relations', 'exercisedValue': 0, 'unexercisedValue': 0}, {'maxAge': 1, 'name': 'Sang-Rak  Lee', 'title': 'VP & Head of Sales', 'exercisedValue': 0, 'unexercisedValue': 0}, {'maxAge': 1, 'name': 'Joon  Choi', 'title': 'VP & Head of Marketing', 'exercisedValue': 0, 'unexercisedValue': 0}, {'maxAge': 1, 'name': 'Myoung-Soo  Park', 'title': 'Head of DRAM Marketing', 'exercisedValue': 0, 'unexercisedValue': 0}, {'maxAge': 1, 'name': 'Jeong Tae  Kim', 'title': 'Head of NAND Marketing', 'exercisedValue': 0, 'unexercisedValue': 0}, {'maxAge': 1, 'name': 'Seon Yong  Cha', 'title': 'Vice President & Head of R&D', 'exercisedValue': 0, 'unexercisedValue': 0}], 'auditRisk': 1, 'boardRisk': 6, 'compensationRisk': 5, 'shareHolderRightsRisk': 3, 'overallRisk': 5, 'governanceEpochDate': 1756684800, 'executiveTeam': [], 'maxAge': 86400, 'priceHint': 2, 'previousClose': 260500.0, 'open': 259500.0, 'dayLow': 257750.0, 'dayHigh': 265500.0, 'regularMarketPreviousClose': 260500.0, 'regularMarketOpen': 259500.0, 'regularMarketDayLow': 257750.0, 'regularMarketDayHigh': 265500.0, 'dividendRate': 1500.0, 'dividendYield': 0.58, 'exDividendDate': 1756339200, 'payoutRatio': 0.048699997, 'fiveYearAvgDividendYield': 1.17, 'beta': 1.274, 'volume': 2576818, 'regularMarketVolume': 2576818, 'averageVolume': 3536609, 'averageVolume10days': 3012258, 'averageDailyVolume10Day': 3012258, 'bid': 262500.0, 'ask': 263000.0, 'bidSize': 0, 'askSize': 0, 'marketCap': 181215575408640, 'fiftyTwoWeekLow': 144700.0, 'fiftyTwoWeekHigh': 306500.0, 'priceToSalesTrailing12Months': 2.3470116, 'fiftyDayAverage': 271530.0, 'twoHundredDayAverage': 214800.5, 'currency': 'KRW', 'tradeable': False, 'enterpriseValue': 187151589310464, 'forwardPE': 5.472105, 'profitMargins': 0.3737, 'floatShares': 542021845, 'sharesOutstanding': 690345024, 'heldPercentInsiders': 0.20396, 'heldPercentInstitutions': 0.44782, 'impliedSharesOutstanding': 725401024, 'lastFiscalYearEnd': 1735603200, 'nextFiscalYearEnd': 1767139200, 'mostRecentQuarter': 1751241600, 'earningsQuarterlyGrowth': 0.698, 'netIncomeToCommon': 28853460271104, 'lastSplitFactor': '1:21', 'lastSplitDate': 1050278400, 'enterpriseToRevenue': 2.424, 'enterpriseToEbitda': 4.236, '52WeekChange': 0.6828165, 'SandP52WeekChange': 0.16222072, 'lastDividendValue': 375.0, 'lastDividendDate': 1756339200, 'quoteType': 'EQUITY', 'currentPrice': 262500.0, 'targetHighPrice': 400000.0, 'targetLowPrice': 255245.0, 'targetMeanPrice': 331911.12, 'targetMedianPrice': 340000.0, 'recommendationMean': 1.58333, 'recommendationKey': 'buy', 'numberOfAnalystOpinions': 36, 'totalCash': 17085258268672, 'totalCashPerShare': 24746.463, 'ebitda': 44177505124352, 'totalDebt': 24369170481152, 'quickRatio': 1.198, 'currentRatio': 1.78, 'totalRevenue': 77211197505536, 'debtToEquity': 27.965, 'revenuePerShare': 111979.85, 'returnOnAssets': 0.16917999, 'returnOnEquity': 0.39278, 'grossProfits': 41622351904768, 'freeCashflow': 6970523254784, 'operatingCashflow': 36970227040256, 'earningsGrowth': 0.613, 'revenueGrowth': 0.354, 'grossMargins': 0.53907, 'ebitdaMargins': 0.57216, 'operatingMargins': 0.41439998, 'financialCurrency': 'KRW', 'symbol': '000660.KS', 'language': 'en-US', 'region': 'US', 'typeDisp': 'Equity', 'quoteSourceName': 'Delayed Quote', 'triggerable': False, 'customPriceAlertConfidence': 'LOW', 'epsCurrentYear': 43481.402, 'priceEpsCurrentYear': 6.0370636, 'fiftyDayAverageChange': -9030.0, 'fiftyDayAverageChangePercent': -0.033255994, 'twoHundredDayAverageChange': 47699.5, 'twoHundredDayAverageChangePercent': 0.2220642, 'sourceInterval': 20, 'exchangeDataDelayedBy': 20, 'averageAnalystRating': '1.6 - Buy', 'cryptoTradeable': False, 'marketState': 'PREPRE', 'corporateActions': [], 'regularMarketTime': 1756881020, 'exchange': 'KSC', 'messageBoardId': 'finmb_883357', 'exchangeTimezoneName': 'Asia/Seoul', 'exchangeTimezoneShortName': 'KST', 'gmtOffSetMilliseconds': 32400000, 'market': 'kr_market', 'esgPopulated': False, 'regularMarketChangePercent': 0.7677543, 'regularMarketPrice': 262500.0, 'shortName': 'SK hynix', 'longName': 'SK hynix Inc.', 'hasPrePostMarketData': False, 'firstTradeDateMilliseconds': 946944000000, 'regularMarketChange': 2000.0, 'regularMarketDayRange': '257750.0 - 265500.0', 'fullExchangeName': 'KSE', 'averageDailyVolume3Month': 3536609, 'fiftyTwoWeekLowChange': 117800.0, 'fiftyTwoWeekLowChangePercent': 0.8140981, 'fiftyTwoWeekRange': '144700.0 - 306500.0', 'fiftyTwoWeekHighChange': -44000.0, 'fiftyTwoWeekHighChangePercent': -0.14355628, 'fiftyTwoWeekChangePercent': 68.28165, 'earningsTimestamp': 1753250400, 'earningsTimestampStart': 1761112800, 'earningsTimestampEnd': 1761112800, 'earningsCallTimestampStart': 1745452800, 'earningsCallTimestampEnd': 1745452800, 'isEarningsDateEstimate': True, 'trailingPegRatio': 0.4654}\n",
            "{'address1': 'NAVER 1784', 'address2': '95 Jeongjail-ro Bundang-gu', 'city': 'Seongnam-si', 'zip': '13561', 'country': 'South Korea', 'phone': '82 1 588 3830', 'fax': '82 3 1784 4175', 'website': 'https://www.navercorp.com', 'industry': 'Internet Content & Information', 'industryKey': 'internet-content-information', 'industryDisp': 'Internet Content & Information', 'sector': 'Communication Services', 'sectorKey': 'communication-services', 'sectorDisp': 'Communication Services', 'longBusinessSummary': 'NAVER Corporation, together with its subsidiaries, provides online search portal and online information services in South Korea, Japan, and internationally. The company offers various search platforms. It is involved in the manufacture of cosmetics; electronic financial business; film and audio content production and distribution; animation and VFX production; Webtoon service development; language learning application development; monitoring, advertisement operations; mobile service development and operations; trading platform operation; clothes, accessories, and news distribution; web novel platform support; e-commerce; and database and online information supply business. Further, it engages in the provision of cloud service management, business support, workforce supply, and employee dispatch; camera and communication application development service; groupware development and service management; exhibition and performance planning business; new technology development and research; global business support; software consulting, development, and distribution; IT investment and research; online live broadcast service and local marketing; contents production; community service marketing; IT infrastructure operations; commerce platform; customer center operations; and comics publishing. The company was formerly known as NHN Corporation. NAVER Corporation was founded in 1999 and is headquartered in Seongnam-si, South Korea.', 'companyOfficers': [{'maxAge': 1, 'name': 'Mr. Hae-Jin  Lee', 'age': 57, 'title': 'Founder & Chairman', 'yearBorn': 1967, 'fiscalYear': 2023, 'totalPay': 1936000000, 'exercisedValue': 0, 'unexercisedValue': 0}, {'maxAge': 1, 'name': 'Ms. Soo-yeon  Choi', 'age': 43, 'title': 'President, CEO & Inside Director', 'yearBorn': 1981, 'fiscalYear': 2023, 'totalPay': 1349000000, 'exercisedValue': 0, 'unexercisedValue': 0}, {'maxAge': 1, 'name': 'Ms. Sun-joo  Chae', 'age': 53, 'title': 'Chief Communications Officer and Head of Talents Devl. Division, PR & Communication group', 'yearBorn': 1971, 'fiscalYear': 2023, 'totalPay': 1235000000, 'exercisedValue': 0, 'unexercisedValue': 0}, {'maxAge': 1, 'name': 'Mr. Hee-Cheol  Kim', 'title': 'Chief Financial Officer', 'fiscalYear': 2023, 'exercisedValue': 0, 'unexercisedValue': 0}, {'maxAge': 1, 'name': 'Bom-jun  Kim', 'age': 49, 'title': 'Chief Operating Officer', 'yearBorn': 1975, 'fiscalYear': 2023, 'exercisedValue': 0, 'unexercisedValue': 0}, {'maxAge': 1, 'name': 'Seon Cho Ki', 'title': 'Head of Investor Relations', 'fiscalYear': 2023, 'exercisedValue': 0, 'unexercisedValue': 0}, {'maxAge': 1, 'name': 'Mr. Min  Kim', 'title': 'Director of Investor Relations', 'fiscalYear': 2023, 'exercisedValue': 0, 'unexercisedValue': 0}, {'maxAge': 1, 'name': 'Ms. Yoonsook  Lee', 'age': 49, 'title': 'CIC Representative', 'yearBorn': 1975, 'fiscalYear': 2023, 'exercisedValue': 0, 'unexercisedValue': 0}, {'maxAge': 1, 'name': 'GeonSu  Lee', 'title': 'CIC Representative', 'fiscalYear': 2023, 'exercisedValue': 0, 'unexercisedValue': 0}], 'auditRisk': 1, 'boardRisk': 4, 'compensationRisk': 6, 'shareHolderRightsRisk': 3, 'overallRisk': 4, 'governanceEpochDate': 1756684800, 'compensationAsOfEpochDate': 1703980800, 'executiveTeam': [], 'maxAge': 86400, 'priceHint': 2, 'previousClose': 225000.0, 'open': 224500.0, 'dayLow': 220000.0, 'dayHigh': 225000.0, 'regularMarketPreviousClose': 225000.0, 'regularMarketOpen': 224500.0, 'regularMarketDayLow': 220000.0, 'regularMarketDayHigh': 225000.0, 'dividendRate': 1130.0, 'dividendYield': 0.5, 'exDividendDate': 1740614400, 'payoutRatio': 0.0864, 'fiveYearAvgDividendYield': 0.38, 'beta': 1.055, 'volume': 711207, 'regularMarketVolume': 711207, 'averageVolume': 1376028, 'averageVolume10days': 729810, 'averageDailyVolume10Day': 729810, 'bid': 221000.0, 'ask': 221500.0, 'bidSize': 0, 'askSize': 0, 'marketCap': 32995081715712, 'fiftyTwoWeekLow': 152500.0, 'fiftyTwoWeekHigh': 295000.0, 'priceToSalesTrailing12Months': 2.9191318, 'fiftyDayAverage': 238490.0, 'twoHundredDayAverage': 212692.0, 'currency': 'KRW', 'tradeable': False, 'enterpriseValue': 31662620540928, 'forwardPE': 16.122507, 'profitMargins': 0.17587, 'floatShares': 143144207, 'sharesOutstanding': 149299008, 'heldPercentInsiders': 0.00141, 'heldPercentInstitutions': 0.41311002, 'impliedSharesOutstanding': 153202000, 'lastFiscalYearEnd': 1735603200, 'nextFiscalYearEnd': 1767139200, 'mostRecentQuarter': 1751241600, 'earningsQuarterlyGrowth': 0.444, 'netIncomeToCommon': 1967221637120, 'lastSplitFactor': '5:1', 'lastSplitDate': 1539302400, 'enterpriseToRevenue': 2.801, 'enterpriseToEbitda': 11.255, '52WeekChange': 0.42857146, 'SandP52WeekChange': 0.16222072, 'lastDividendValue': 1130.0, 'lastDividendDate': 1740614400, 'quoteType': 'EQUITY', 'currentPrice': 221000.0, 'targetHighPrice': 380000.0, 'targetLowPrice': 200000.0, 'targetMeanPrice': 293703.44, 'targetMedianPrice': 300000.0, 'recommendationMean': 1.89655, 'recommendationKey': 'buy', 'numberOfAnalystOpinions': 29, 'totalCash': 7957776433152, 'totalCashPerShare': 53287.293, 'ebitda': 2813243949056, 'totalDebt': 4485378211840, 'quickRatio': 1.048, 'currentRatio': 1.3, 'totalRevenue': 11303046348800, 'debtToEquity': 16.056, 'revenuePerShare': 75501.02, 'returnOnAssets': 0.0346, 'returnOnEquity': 0.07418, 'grossProfits': 11303046348800, 'freeCashflow': 1543613841408, 'operatingCashflow': 2489558237184, 'earningsGrowth': 0.476, 'revenueGrowth': 0.117, 'grossMargins': 1.0, 'ebitdaMargins': 0.24889, 'operatingMargins': 0.17892, 'financialCurrency': 'KRW', 'symbol': '035420.KS', 'language': 'en-US', 'region': 'US', 'typeDisp': 'Equity', 'quoteSourceName': 'Delayed Quote', 'triggerable': False, 'customPriceAlertConfidence': 'LOW', 'marketState': 'PREPRE', 'exchange': 'KSC', 'messageBoardId': 'finmb_8708896', 'exchangeTimezoneName': 'Asia/Seoul', 'exchangeTimezoneShortName': 'KST', 'gmtOffSetMilliseconds': 32400000, 'market': 'kr_market', 'esgPopulated': False, 'corporateActions': [], 'cryptoTradeable': False, 'hasPrePostMarketData': False, 'firstTradeDateMilliseconds': 1035849600000, 'regularMarketChange': -4000.0, 'regularMarketDayRange': '220000.0 - 225000.0', 'regularMarketTime': 1756881025, 'regularMarketChangePercent': -1.7777778, 'regularMarketPrice': 221000.0, 'shortName': 'NAVER', 'longName': 'NAVER Corporation', 'fullExchangeName': 'KSE', 'averageDailyVolume3Month': 1376028, 'fiftyTwoWeekLowChange': 68500.0, 'fiftyTwoWeekLowChangePercent': 0.44918033, 'fiftyTwoWeekRange': '152500.0 - 295000.0', 'fiftyTwoWeekHighChange': -74000.0, 'fiftyTwoWeekHighChangePercent': -0.25084746, 'fiftyTwoWeekChangePercent': 42.857147, 'earningsTimestamp': 1754632800, 'earningsTimestampStart': 1754632800, 'earningsTimestampEnd': 1754632800, 'earningsCallTimestampStart': 1746748800, 'earningsCallTimestampEnd': 1746748800, 'isEarningsDateEstimate': False, 'epsCurrentYear': 12209.828, 'priceEpsCurrentYear': 18.100172, 'fiftyDayAverageChange': -17490.0, 'fiftyDayAverageChangePercent': -0.07333641, 'twoHundredDayAverageChange': 8308.0, 'twoHundredDayAverageChangePercent': 0.039061178, 'sourceInterval': 20, 'exchangeDataDelayedBy': 20, 'averageAnalystRating': '1.9 - Buy', 'trailingPegRatio': 3.6037}\n"
          ]
        }
      ]
    },
    {
      "cell_type": "code",
      "source": [
        "import requests\n",
        "from bs4 import BeautifulSoup\n",
        "\n",
        "def get_stock_news(company_code, page_nums):\n",
        "    url_listes = []\n",
        "    for page_num in range(1, page_nums+1):\n",
        "        url = f\"https://finance.naver.com/item/news_notice.naver?code={company_code}&page={page_num}\"\n",
        "        url_listes.append(url)\n",
        "    return url_listes"
      ],
      "metadata": {
        "id": "WGqv8q5U7_C7"
      },
      "execution_count": 5,
      "outputs": []
    },
    {
      "cell_type": "code",
      "source": [
        "url_listes = get_stock_news(377300, 5)\n",
        "\n",
        "for url_list in url_listes:\n",
        "    news_table = pd.read_html(url_list, encoding=\"cp949\")\n",
        "    print(news_table)"
      ],
      "metadata": {
        "id": "eO0iheeu84FS",
        "outputId": "32bade63-066a-4f00-f80c-18453ff13d57",
        "colab": {
          "base_uri": "https://localhost:8080/"
        }
      },
      "execution_count": 6,
      "outputs": [
        {
          "output_type": "stream",
          "name": "stderr",
          "text": [
            "/usr/local/lib/python3.12/dist-packages/bs4/__init__.py:341: UserWarning: You provided Unicode markup but also provided a value for from_encoding. Your from_encoding will be ignored.\n",
            "  warnings.warn(\n"
          ]
        },
        {
          "output_type": "stream",
          "name": "stdout",
          "text": [
            "[                                           제목    정보제공          날짜\n",
            "0        주식회사 카카오페이 공매도 과열종목 지정(공매도 거래 금지 적용)  KOSCOM  2025.09.03\n",
            "1  주식회사 카카오페이 주식선물ㆍ주식옵션 2단계 가격제한폭 확대요건 도달(...  KOSCOM  2025.09.03\n",
            "2             주식회사 카카오페이 유상증자결정(종속회사의 주요경영사항)  KOSCOM  2025.09.01\n",
            "3                   주식회사 카카오페이 타법인주식및출자증권취득결정  KOSCOM  2025.09.01\n",
            "4               주식회사 카카오페이 기업설명회(IR) 개최(안내공시)  KOSCOM  2025.08.27\n",
            "5  주식회사 카카오페이 주식선물ㆍ주식옵션 2단계 가격제한폭 확대요건 도달(...  KOSCOM  2025.08.20\n",
            "6               주식회사 카카오페이 기업설명회(IR) 개최(안내공시)  KOSCOM  2025.08.11\n",
            "7                 주식회사 카카오페이 추가상장(주식매수선택권 행사)  KOSCOM  2025.08.07\n",
            "8           주식회사 카카오페이 연결재무제표기준영업(잠정)실적(공정공시)  KOSCOM  2025.08.05\n",
            "9                   주식회사 카카오페이 영업(잠정)실적(공정공시)  KOSCOM  2025.08.05,    0   1   2   3   4   5   6   7   8   9   10  11\n",
            "0   1   2   3   4   5   6   7   8   9  10  다음  맨뒤]\n"
          ]
        },
        {
          "output_type": "stream",
          "name": "stderr",
          "text": [
            "/usr/local/lib/python3.12/dist-packages/bs4/__init__.py:341: UserWarning: You provided Unicode markup but also provided a value for from_encoding. Your from_encoding will be ignored.\n",
            "  warnings.warn(\n"
          ]
        },
        {
          "output_type": "stream",
          "name": "stdout",
          "text": [
            "[                                           제목    정보제공          날짜\n",
            "0  주식회사 카카오페이 주식선물ㆍ주식옵션 2단계 가격제한폭 확대요건 도달(...  KOSCOM  2025.07.25\n",
            "1       주식회사 카카오페이 [투자주의]투자경고종목 지정해제 및 재지정 예고  KOSCOM  2025.07.24\n",
            "2               주식회사 카카오페이 기업설명회(IR) 개최(안내공시)  KOSCOM  2025.07.21\n",
            "3               주식회사 카카오페이 기업설명회(IR) 개최(안내공시)  KOSCOM  2025.07.21\n",
            "4                  주식회사 카카오페이 결산실적공시 예고(안내공시)  KOSCOM  2025.07.21\n",
            "5        주식회사 카카오페이 공매도 과열종목 지정(공매도 거래 금지 적용)  KOSCOM  2025.07.17\n",
            "6                  주식회사 카카오페이 풍문 또는 보도에 대한 해명  KOSCOM  2025.07.17\n",
            "7  주식회사 카카오페이 주식선물ㆍ주식옵션 2단계 가격제한폭 확대요건 도달(...  KOSCOM  2025.07.17\n",
            "8  주식회사 카카오페이 주식선물ㆍ주식옵션 2단계 가격제한폭 확대요건 도달(...  KOSCOM  2025.07.14\n",
            "9                      주식회사 카카오페이 투자위험종목 지정해제  KOSCOM  2025.07.10,    0   1   2   3   4   5   6   7   8   9   10  11  12\n",
            "0  맨앞   1   2   3   4   5   6   7   8   9  10  다음  맨뒤]\n"
          ]
        },
        {
          "output_type": "stream",
          "name": "stderr",
          "text": [
            "/usr/local/lib/python3.12/dist-packages/bs4/__init__.py:341: UserWarning: You provided Unicode markup but also provided a value for from_encoding. Your from_encoding will be ignored.\n",
            "  warnings.warn(\n"
          ]
        },
        {
          "output_type": "stream",
          "name": "stdout",
          "text": [
            "[                                           제목    정보제공          날짜\n",
            "0                        주식회사 카카오페이 투자경고종목 지정  KOSCOM  2025.07.10\n",
            "1                 주식회사 카카오페이 추가상장(주식매수선택권 행사)  KOSCOM  2025.07.10\n",
            "2             주식회사 카카오페이 풍문 또는 보도에 대한 해명(미확정)  KOSCOM  2025.07.10\n",
            "3        주식회사 카카오페이 공매도 과열종목 연장(공매도 거래 금지 연장)  KOSCOM  2025.06.30\n",
            "4  주식회사 카카오페이 주식선물ㆍ주식옵션 2단계 가격제한폭 확대요건 도달(...  KOSCOM  2025.06.30\n",
            "5        주식회사 카카오페이 공매도 과열종목 지정(공매도 거래 금지 적용)  KOSCOM  2025.06.27\n",
            "6  주식회사 카카오페이 주식선물ㆍ주식옵션 2단계 가격제한폭 확대요건 도달(...  KOSCOM  2025.06.27\n",
            "7                주식회사 카카오페이 주식선물ㆍ옵션 거래정지및거래재개  KOSCOM  2025.06.26\n",
            "8                        주식회사 카카오페이 투자위험종목 지정  KOSCOM  2025.06.25\n",
            "9        주식회사 카카오페이 매매거래 정지 및 재개(투자위험종목 최초지정)  KOSCOM  2025.06.25,    0   1   2   3   4   5   6   7   8   9   10  11  12\n",
            "0  맨앞   1   2   3   4   5   6   7   8   9  10  다음  맨뒤]\n"
          ]
        },
        {
          "output_type": "stream",
          "name": "stderr",
          "text": [
            "/usr/local/lib/python3.12/dist-packages/bs4/__init__.py:341: UserWarning: You provided Unicode markup but also provided a value for from_encoding. Your from_encoding will be ignored.\n",
            "  warnings.warn(\n"
          ]
        },
        {
          "output_type": "stream",
          "name": "stdout",
          "text": [
            "[                                           제목    정보제공          날짜\n",
            "0  주식회사 카카오페이 주식선물ㆍ주식옵션 3단계 가격제한폭 확대요건 도달(...  KOSCOM  2025.06.25\n",
            "1  주식회사 카카오페이 주식선물ㆍ주식옵션 2단계 가격제한폭 확대요건 도달(...  KOSCOM  2025.06.25\n",
            "2           주식회사 카카오페이 지속가능경영보고서 등 관련사항(자율공시)  KOSCOM  2025.06.24\n",
            "3                주식회사 카카오페이 주식선물ㆍ옵션 거래정지및거래재개  KOSCOM  2025.06.24\n",
            "4                      주식회사 카카오페이 투자위험종목 지정예고  KOSCOM  2025.06.23\n",
            "5                        주식회사 카카오페이 매매거래정지 예고  KOSCOM  2025.06.23\n",
            "6         주식회사 카카오페이 매매거래 정지 및 재개(투자경고종목 지정중)  KOSCOM  2025.06.23\n",
            "7  주식회사 카카오페이 주식선물ㆍ주식옵션 3단계 가격제한폭 확대요건 도달(...  KOSCOM  2025.06.23\n",
            "8  주식회사 카카오페이 주식선물ㆍ주식옵션 2단계 가격제한폭 확대요건 도달(...  KOSCOM  2025.06.23\n",
            "9                        주식회사 카카오페이 매매거래정지 예고  KOSCOM  2025.06.20,    0   1   2   3   4   5   6   7   8   9   10  11  12\n",
            "0  맨앞   1   2   3   4   5   6   7   8   9  10  다음  맨뒤]\n",
            "[                                           제목    정보제공          날짜\n",
            "0  주식회사 카카오페이 주식선물ㆍ주식옵션 3단계 가격제한폭 확대요건 도달(...  KOSCOM  2025.06.20\n",
            "1  주식회사 카카오페이 주식선물ㆍ주식옵션 2단계 가격제한폭 확대요건 도달(...  KOSCOM  2025.06.20\n",
            "2               주식회사 카카오페이 기업설명회(IR) 개최(안내공시)  KOSCOM  2025.06.18\n",
            "3  주식회사 카카오페이 주식선물ㆍ주식옵션 2단계 가격제한폭 확대요건 도달(...  KOSCOM  2025.06.17\n",
            "4                        주식회사 카카오페이 투자경고종목 지정  KOSCOM  2025.06.13\n",
            "5  주식회사 카카오페이 주식선물ㆍ주식옵션 2단계 가격제한폭 확대요건 도달(...  KOSCOM  2025.06.13\n",
            "6                 주식회사 카카오페이 추가상장(주식매수선택권 행사)  KOSCOM  2025.06.12\n",
            "7                주식회사 카카오페이 [투자주의]투자경고종목 지정예고  KOSCOM  2025.06.11\n",
            "8      주식회사 카카오페이 (예고)단기과열종목(3거래일 단일가매매) 지정예고  KOSCOM  2025.06.11\n",
            "9             주식회사 카카오페이 풍문 또는 보도에 대한 해명(미확정)  KOSCOM  2025.06.11,    0   1   2   3   4   5   6   7   8   9   10  11  12\n",
            "0  맨앞   1   2   3   4   5   6   7   8   9  10  다음  맨뒤]\n"
          ]
        },
        {
          "output_type": "stream",
          "name": "stderr",
          "text": [
            "/usr/local/lib/python3.12/dist-packages/bs4/__init__.py:341: UserWarning: You provided Unicode markup but also provided a value for from_encoding. Your from_encoding will be ignored.\n",
            "  warnings.warn(\n"
          ]
        }
      ]
    },
    {
      "cell_type": "markdown",
      "source": [
        "네이버는 현재 뉴스데이터는 크롤링을 금지하였다. 따라서 네이버 뉴스 api를 사용할 예정이다."
      ],
      "metadata": {
        "id": "NJd7DB8UMpB3"
      }
    },
    {
      "cell_type": "code",
      "source": [],
      "metadata": {
        "id": "QLM1tVCAMlal"
      },
      "execution_count": 6,
      "outputs": []
    }
  ]
}